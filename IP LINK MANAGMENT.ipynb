{
 "cells": [
  {
   "cell_type": "code",
   "execution_count": 1,
   "id": "c5a4c1f6",
   "metadata": {},
   "outputs": [],
   "source": [
    "import pymongo\n",
    "import json\n",
    "import pymongo\n",
    "from netaddr import IPNetwork\n",
    "\n",
    "def update_mongodb_document(json_data):\n",
    "    # Connect to the MongoDB database\n",
    "    client = pymongo.MongoClient(mongodb)\n",
    "    db = client[\"config\"]\n",
    "    collection = db[\"tenant\"]\n",
    "\n",
    "    # Convert the JSON object to a Python dictionary\n",
    "    data = json.loads(json_data)\n",
    "\n",
    "    # Get the ID of the document to update\n",
    "    document_id = data[\"_id\"]\n",
    "\n",
    "    # Get the fields to update\n",
    "    update_fields = {}\n",
    "    for key in data.keys():\n",
    "        if key != \"_id\":\n",
    "            update_fields[key] = data[key]\n",
    "\n",
    "    # Update the MongoDB document with the specified fields\n",
    "    collection.update_one({\"_id\": document_id}, {\"$set\": update_fields})\n"
   ]
  },
  {
   "cell_type": "code",
   "execution_count": null,
   "id": "47a4a924",
   "metadata": {},
   "outputs": [],
   "source": [
    "def create_link(linkid, device1id, device2id, linkcost, underlay1id, underlay2id):\n",
    "    \"\"\"this function takes a link data and assignes a /31 Ip address to the link and saves all data in database\"\"\"\n",
    "    # Connect to MongoDB\n",
    "    client = pymongo.MongoClient('mongodb://localhost:27017/')\n",
    "    db = client['ip_assignments']\n",
    "    collection = db['sdwan_p2p']\n",
    "\n",
    "    # Find an available /31 subnet\n",
    "    subnet = None\n",
    "    for cidr in IPNetwork('169.254.0.0/16').subnet(31):\n",
    "        if not collection.find_one({'subnet': str(cidr)}):\n",
    "            subnet = cidr\n",
    "            break\n",
    "\n",
    "    if not subnet:\n",
    "        raise Exception('No available /31 subnets found')\n",
    "\n",
    "    # Update MongoDB document with link information\n",
    "    result = collection.update_one({'subnet': str(subnet)}, {'$set': {\n",
    "        'linkid': linkid,\n",
    "        'device1name': device1name,\n",
    "        'device2name': device2name,\n",
    "        'underlay1id': underlay1id,\n",
    "        'underlay2id': underlay2id,\n",
    "        'linkcost': linkcost,\n",
    "    }}, upsert=True)\n",
    "\n",
    "    # Get the inserted document's _id field\n",
    "    document_id = result.upserted_id['_id']\n",
    "\n",
    "    # Return the assigned subnet and document_id\n",
    "    return str(subnet), str(document_id)"
   ]
  }
 ],
 "metadata": {
  "kernelspec": {
   "display_name": "Python 3 (ipykernel)",
   "language": "python",
   "name": "python3"
  },
  "language_info": {
   "codemirror_mode": {
    "name": "ipython",
    "version": 3
   },
   "file_extension": ".py",
   "mimetype": "text/x-python",
   "name": "python",
   "nbconvert_exporter": "python",
   "pygments_lexer": "ipython3",
   "version": "3.9.13"
  }
 },
 "nbformat": 4,
 "nbformat_minor": 5
}
