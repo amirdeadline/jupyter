{
 "cells": [
  {
   "cell_type": "code",
   "execution_count": 2,
   "id": "e4d72d88",
   "metadata": {},
   "outputs": [
    {
     "name": "stderr",
     "output_type": "stream",
     "text": [
      "2023-04-02 11:06:16,217 - INFO - Created SiteGroup with _id 642999e86c1b5ba9537ec617 at 2023-04-02 15:06:16.183408\n",
      "2023-04-02 11:06:16,219 - INFO - Created SiteGroup with _id 642999e86c1b5ba9537ec617 at 2023-04-02 15:06:16.183408\n"
     ]
    }
   ],
   "source": [
    "import pymongo\n",
    "import logging\n",
    "import logging.handlers\n",
    "import datetime\n",
    "\n",
    "# Connect to MongoDB\n",
    "client = pymongo.MongoClient('mongodb://localhost:27017/')\n",
    "db = client['acme_inc']\n",
    "\n",
    "def create_sitegroup(sitegroup_name, sitegroup_type):\n",
    "    collection = db['sdwan']\n",
    "\n",
    "    # Create sitegroup document\n",
    "    sitegroup = {\n",
    "        'sitegroup_name': sitegroup_name,\n",
    "        'sitegroup_type': sitegroup_type,\n",
    "        'members': {\n",
    "            'hubs': [],\n",
    "            'spokes': []\n",
    "        },\n",
    "        'created_at': datetime.datetime.utcnow()\n",
    "    }\n",
    "\n",
    "    try:\n",
    "        # Insert sitegroup document and get _id field\n",
    "        result = collection.insert_one(sitegroup)\n",
    "        document_id = result.inserted_id\n",
    "\n",
    "        # Log success message with creation time and document id\n",
    "        logging.info(f\"Created SiteGroup with _id {document_id} at {sitegroup['created_at']}\")\n",
    "\n",
    "        # Send syslog message with creation time and document id\n",
    "        syslog_logger.info(f\"Created SiteGroup with _id {document_id} at {sitegroup['created_at']}\")\n",
    "    except Exception as e:\n",
    "        # Log error message with creation time and exception message\n",
    "        logging.error(f\"Failed to create SiteGroup at {datetime.datetime.utcnow()}: {e}\")\n",
    "\n",
    "        # Send syslog message with creation time and exception message\n",
    "        syslog_logger.error(f\"Failed to create SiteGroup at {datetime.datetime.utcnow()}: {e}\")\n",
    "        raise e\n",
    "\n",
    "    # Return _id field\n",
    "    return str(document_id)\n",
    "\n",
    "\n",
    "# Initialize logging\n",
    "logging.basicConfig(\n",
    "    format='%(asctime)s - %(levelname)s - %(message)s',\n",
    "    level=logging.INFO\n",
    ")\n",
    "\n",
    "# Initialize syslog logger\n",
    "syslog_logger = logging.getLogger('syslog')\n",
    "syslog_logger.setLevel(logging.INFO)\n",
    "syslog_handler = logging.handlers.SysLogHandler(address=('192.168.10.199', 3514))\n",
    "syslog_logger.addHandler(syslog_handler)\n",
    "\n",
    "# Call create_sitegroup function with dictionary input\n",
    "sitegroup_data = {\n",
    "    'sitegroup_name': 'SiteGroup1',\n",
    "    'sitegroup_type': 'fullmesh'\n",
    "}\n",
    "document_id = create_sitegroup(**sitegroup_data)\n",
    "\n",
    "# Close logging\n",
    "logging.shutdown()\n"
   ]
  }
 ],
 "metadata": {
  "kernelspec": {
   "display_name": "Python 3 (ipykernel)",
   "language": "python",
   "name": "python3"
  },
  "language_info": {
   "codemirror_mode": {
    "name": "ipython",
    "version": 3
   },
   "file_extension": ".py",
   "mimetype": "text/x-python",
   "name": "python",
   "nbconvert_exporter": "python",
   "pygments_lexer": "ipython3",
   "version": "3.9.13"
  }
 },
 "nbformat": 4,
 "nbformat_minor": 5
}
